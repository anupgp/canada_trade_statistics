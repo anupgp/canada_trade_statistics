{
 "cells": [
  {
   "cell_type": "markdown",
   "metadata": {},
   "source": [
    "\n",
    "<h1> <center> Trade data analysis: Canada exports and imports - Part 2 </center> </h1>\n",
    "<p style=\"color:black;font-size:18px;\"> Part 2 of the analysis on the <a href=\"https://open.canada.ca/data/en/dataset/c2231d1e-0b04-4c8c-9d36-46f67cece549\" target=\"_top\"> Public dataset> </a> on merchandise imports and exports from Canadian provinces to the United states. </p>\n",
    "   "
   ]
  },
  {
   "cell_type": "code",
   "execution_count": 13,
   "metadata": {},
   "outputs": [],
   "source": [
    "import numpy as np\n",
    "import pandas as pd\n",
    "import os\n",
    "import datetime\n",
    "from matplotlib import pyplot as plt\n",
    "from matplotlib.legend import Legend\n",
    "import statsmodels.api as sm\n",
    "from statsmodels.tsa.seasonal import seasonal_decompose\n",
    "import requests, zipfile, io\n",
    "\n",
    "%matplotlib inline\n",
    "%reload_ext autoreload"
   ]
  },
  {
   "cell_type": "code",
   "execution_count": 14,
   "metadata": {},
   "outputs": [],
   "source": [
    "# load data\n",
    "data_uri_zip = \"https://www150.statcan.gc.ca/n1/tbl/csv/12100099-eng.zip\"\n",
    "datafile = \"12100099.csv\"\n",
    "usecols = [\"REF_DATE\",\"GEO\",\"Trade\",\"United States\",\"Harmonized System (HS) Sections\",\"VALUE\"]\n",
    "nrows = 1000\n",
    "r = requests.get(data_uri_zip, stream=True)\n",
    "with zipfile.ZipFile(io.BytesIO(r.content)) as z:\n",
    "    with z.open(datafile) as f:\n",
    "        df = pd.read_csv(f, header=0,usecols=usecols)"
   ]
  },
  {
   "cell_type": "code",
   "execution_count": 15,
   "metadata": {},
   "outputs": [],
   "source": [
    "# preprocessing step 1\n",
    "# Change columns names to simple ones\n",
    "old_colnames = [\"REF_DATE\",\"GEO\",\"Trade\",\"United States\",\"Harmonized System (HS) Sections\",\"VALUE\"]\n",
    "new_colnames = [\"Date\",\"Canada\",\"Trade\",\"USA\",\"HS\",\"Value\"]\n",
    "df.rename(columns = dict(zip(old_colnames,new_colnames)),inplace=True)"
   ]
  },
  {
   "cell_type": "code",
   "execution_count": 16,
   "metadata": {},
   "outputs": [],
   "source": [
    "# convert \"REF_DATE\" to datetime object\n",
    "df[\"Date\"] = pd.to_datetime(df[\"Date\"])\n",
    "df[\"Month\"] = df[\"Date\"].dt.month\n",
    "df[\"Year\"] = df[\"Date\"].dt.year\n",
    "# conver value to millions\n",
    "df[\"Value\"] = df[\"Value\"]/1E6"
   ]
  },
  {
   "cell_type": "code",
   "execution_count": 17,
   "metadata": {},
   "outputs": [
    {
     "data": {
      "text/html": [
       "<div>\n",
       "<style scoped>\n",
       "    .dataframe tbody tr th:only-of-type {\n",
       "        vertical-align: middle;\n",
       "    }\n",
       "\n",
       "    .dataframe tbody tr th {\n",
       "        vertical-align: top;\n",
       "    }\n",
       "\n",
       "    .dataframe thead th {\n",
       "        text-align: right;\n",
       "    }\n",
       "</style>\n",
       "<table border=\"1\" class=\"dataframe\">\n",
       "  <thead>\n",
       "    <tr style=\"text-align: right;\">\n",
       "      <th></th>\n",
       "      <th>Date</th>\n",
       "      <th>Canada</th>\n",
       "      <th>Trade</th>\n",
       "      <th>USA</th>\n",
       "      <th>HS</th>\n",
       "      <th>Value</th>\n",
       "      <th>Month</th>\n",
       "      <th>Year</th>\n",
       "    </tr>\n",
       "  </thead>\n",
       "  <tbody>\n",
       "    <tr>\n",
       "      <th>0</th>\n",
       "      <td>1990-01-01</td>\n",
       "      <td>Canada</td>\n",
       "      <td>Total exports</td>\n",
       "      <td>Total United States</td>\n",
       "      <td>Total Harmonized System (HS) sections</td>\n",
       "      <td>8.462567</td>\n",
       "      <td>1</td>\n",
       "      <td>1990</td>\n",
       "    </tr>\n",
       "    <tr>\n",
       "      <th>1</th>\n",
       "      <td>1990-01-01</td>\n",
       "      <td>Canada</td>\n",
       "      <td>Total exports</td>\n",
       "      <td>Total United States</td>\n",
       "      <td>I - Live animals and animal products</td>\n",
       "      <td>0.211653</td>\n",
       "      <td>1</td>\n",
       "      <td>1990</td>\n",
       "    </tr>\n",
       "    <tr>\n",
       "      <th>2</th>\n",
       "      <td>1990-01-01</td>\n",
       "      <td>Canada</td>\n",
       "      <td>Total exports</td>\n",
       "      <td>Total United States</td>\n",
       "      <td>II - Vegetable products</td>\n",
       "      <td>0.082447</td>\n",
       "      <td>1</td>\n",
       "      <td>1990</td>\n",
       "    </tr>\n",
       "    <tr>\n",
       "      <th>3</th>\n",
       "      <td>1990-01-01</td>\n",
       "      <td>Canada</td>\n",
       "      <td>Total exports</td>\n",
       "      <td>Total United States</td>\n",
       "      <td>III - Animal or vegetable fats and oils and th...</td>\n",
       "      <td>0.006821</td>\n",
       "      <td>1</td>\n",
       "      <td>1990</td>\n",
       "    </tr>\n",
       "    <tr>\n",
       "      <th>4</th>\n",
       "      <td>1990-01-01</td>\n",
       "      <td>Canada</td>\n",
       "      <td>Total exports</td>\n",
       "      <td>Total United States</td>\n",
       "      <td>IV - Prepared foodstuffs, beverages, spirits a...</td>\n",
       "      <td>0.138902</td>\n",
       "      <td>1</td>\n",
       "      <td>1990</td>\n",
       "    </tr>\n",
       "  </tbody>\n",
       "</table>\n",
       "</div>"
      ],
      "text/plain": [
       "        Date  Canada          Trade                  USA  \\\n",
       "0 1990-01-01  Canada  Total exports  Total United States   \n",
       "1 1990-01-01  Canada  Total exports  Total United States   \n",
       "2 1990-01-01  Canada  Total exports  Total United States   \n",
       "3 1990-01-01  Canada  Total exports  Total United States   \n",
       "4 1990-01-01  Canada  Total exports  Total United States   \n",
       "\n",
       "                                                  HS     Value  Month  Year  \n",
       "0              Total Harmonized System (HS) sections  8.462567      1  1990  \n",
       "1               I - Live animals and animal products  0.211653      1  1990  \n",
       "2                            II - Vegetable products  0.082447      1  1990  \n",
       "3  III - Animal or vegetable fats and oils and th...  0.006821      1  1990  \n",
       "4  IV - Prepared foodstuffs, beverages, spirits a...  0.138902      1  1990  "
      ]
     },
     "execution_count": 17,
     "metadata": {},
     "output_type": "execute_result"
    }
   ],
   "source": [
    "df.head()"
   ]
  }
 ],
 "metadata": {
  "kernelspec": {
   "display_name": "Python 3",
   "language": "python",
   "name": "python3"
  },
  "language_info": {
   "codemirror_mode": {
    "name": "ipython",
    "version": 3
   },
   "file_extension": ".py",
   "mimetype": "text/x-python",
   "name": "python",
   "nbconvert_exporter": "python",
   "pygments_lexer": "ipython3",
   "version": "3.8.2"
  }
 },
 "nbformat": 4,
 "nbformat_minor": 4
}
